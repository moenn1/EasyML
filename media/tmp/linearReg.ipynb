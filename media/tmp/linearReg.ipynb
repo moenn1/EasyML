{
 "cells": [
  {
   "cell_type": "code",
   "execution_count": 1,
   "metadata": {},
   "outputs": [],
   "source": [
    "#Import librarires for linear regression   \n",
    "import pandas as pd\n",
    "from sklearn.model_selection import train_test_split\n",
    "from sklearn.linear_model import LinearRegression\n",
    "from sklearn import metrics\n",
    "import numpy as np\n"
   ]
  },
  {
   "cell_type": "code",
   "execution_count": 6,
   "metadata": {},
   "outputs": [
    {
     "name": "stdout",
     "output_type": "stream",
     "text": [
      "Accuracy: 0.2626694637538147\n"
     ]
    }
   ],
   "source": [
    "#Linear regression on dataMerged.csv\n",
    "#Read data from csv file\n",
    "data = pd.read_csv('dataMerged.csv')\n",
    "\n",
    "#Split data into training and testing sets\n",
    "\n",
    "X = data[['is_push_bar', 'is_move_node', 'is_fixed', 'a_x', 'a_y', 'a_z', 'l_b', 'w_b', 'h_b', 'l_p', 'w_p',\n",
    "              'h_p', 'r_l', 'r_w', 'r_h', 'r_x', 'r_y', 'r_z', 'a_x_m', 'a_y_m', 'a_z_m', 'r_x_m', 'r_y_m',\n",
    "              'r_z_m', 'r', 'a_thickness', 'r_thickness_l', 'r_thickness_w', 'r_thickness_h', 'r_cm_l', 'r_cm_w']]\n",
    "# Select the 'max_stress' column from 00001.csv as the target variable\n",
    "y = data['max_stress']\n",
    "X_train, X_test, y_train, y_test = train_test_split(X, y, test_size=0.2, random_state=42)\n",
    "model = LinearRegression()\n",
    "model.fit(X_train, y_train)\n",
    "y_pred = model.predict(X_test)\n",
    "accuracy=model.score(X_test,y_test)\n",
    "print(\"Accuracy:\", accuracy)\n"
   ]
  }
 ],
 "metadata": {
  "kernelspec": {
   "display_name": "Python 3",
   "language": "python",
   "name": "python3"
  },
  "language_info": {
   "codemirror_mode": {
    "name": "ipython",
    "version": 3
   },
   "file_extension": ".py",
   "mimetype": "text/x-python",
   "name": "python",
   "nbconvert_exporter": "python",
   "pygments_lexer": "ipython3",
   "version": "3.10.11"
  },
  "orig_nbformat": 4
 },
 "nbformat": 4,
 "nbformat_minor": 2
}
